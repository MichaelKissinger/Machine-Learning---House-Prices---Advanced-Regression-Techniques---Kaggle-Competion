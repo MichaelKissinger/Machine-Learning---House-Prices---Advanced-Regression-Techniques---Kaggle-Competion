{
 "cells": [
  {
   "cell_type": "markdown",
   "id": "73e3e134",
   "metadata": {},
   "source": [
    "# ENSF 611 - Final Project - House Prices Advanced Regression Techniques Kaggle Competition"
   ]
  },
  {
   "cell_type": "markdown",
   "id": "cdc07d7a",
   "metadata": {},
   "source": [
    "## Completed by: Michael Kissinger"
   ]
  },
  {
   "cell_type": "markdown",
   "id": "e4ee5b50",
   "metadata": {},
   "source": [
    "## Step 1 - Importing Data\n",
    "First we will import all the typically required packages. I am also setting pandas to display show all rows so we can more effectively analyze the data."
   ]
  },
  {
   "cell_type": "code",
   "execution_count": 25,
   "id": "dbfd7cef",
   "metadata": {},
   "outputs": [],
   "source": [
    "import numpy as np \n",
    "import pandas as pd \n",
    "import matplotlib.pyplot as plt\n",
    "import seaborn as sns\n",
    "\n",
    "pd.set_option('display.max_rows', None)"
   ]
  },
  {
   "cell_type": "markdown",
   "id": "7afc2f5c",
   "metadata": {},
   "source": [
    "Now we will import the training and test datasets and show the shape head of the data sets."
   ]
  },
  {
   "cell_type": "code",
   "execution_count": 26,
   "id": "739b9e20",
   "metadata": {},
   "outputs": [
    {
     "name": "stdout",
     "output_type": "stream",
     "text": [
      "(1460, 81)\n"
     ]
    },
    {
     "data": {
      "text/html": [
       "<div>\n",
       "<style scoped>\n",
       "    .dataframe tbody tr th:only-of-type {\n",
       "        vertical-align: middle;\n",
       "    }\n",
       "\n",
       "    .dataframe tbody tr th {\n",
       "        vertical-align: top;\n",
       "    }\n",
       "\n",
       "    .dataframe thead th {\n",
       "        text-align: right;\n",
       "    }\n",
       "</style>\n",
       "<table border=\"1\" class=\"dataframe\">\n",
       "  <thead>\n",
       "    <tr style=\"text-align: right;\">\n",
       "      <th></th>\n",
       "      <th>Id</th>\n",
       "      <th>MSSubClass</th>\n",
       "      <th>MSZoning</th>\n",
       "      <th>LotFrontage</th>\n",
       "      <th>LotArea</th>\n",
       "      <th>Street</th>\n",
       "      <th>Alley</th>\n",
       "      <th>LotShape</th>\n",
       "      <th>LandContour</th>\n",
       "      <th>Utilities</th>\n",
       "      <th>...</th>\n",
       "      <th>PoolArea</th>\n",
       "      <th>PoolQC</th>\n",
       "      <th>Fence</th>\n",
       "      <th>MiscFeature</th>\n",
       "      <th>MiscVal</th>\n",
       "      <th>MoSold</th>\n",
       "      <th>YrSold</th>\n",
       "      <th>SaleType</th>\n",
       "      <th>SaleCondition</th>\n",
       "      <th>SalePrice</th>\n",
       "    </tr>\n",
       "  </thead>\n",
       "  <tbody>\n",
       "    <tr>\n",
       "      <th>0</th>\n",
       "      <td>1</td>\n",
       "      <td>60</td>\n",
       "      <td>RL</td>\n",
       "      <td>65.0</td>\n",
       "      <td>8450</td>\n",
       "      <td>Pave</td>\n",
       "      <td>NaN</td>\n",
       "      <td>Reg</td>\n",
       "      <td>Lvl</td>\n",
       "      <td>AllPub</td>\n",
       "      <td>...</td>\n",
       "      <td>0</td>\n",
       "      <td>NaN</td>\n",
       "      <td>NaN</td>\n",
       "      <td>NaN</td>\n",
       "      <td>0</td>\n",
       "      <td>2</td>\n",
       "      <td>2008</td>\n",
       "      <td>WD</td>\n",
       "      <td>Normal</td>\n",
       "      <td>208500</td>\n",
       "    </tr>\n",
       "    <tr>\n",
       "      <th>1</th>\n",
       "      <td>2</td>\n",
       "      <td>20</td>\n",
       "      <td>RL</td>\n",
       "      <td>80.0</td>\n",
       "      <td>9600</td>\n",
       "      <td>Pave</td>\n",
       "      <td>NaN</td>\n",
       "      <td>Reg</td>\n",
       "      <td>Lvl</td>\n",
       "      <td>AllPub</td>\n",
       "      <td>...</td>\n",
       "      <td>0</td>\n",
       "      <td>NaN</td>\n",
       "      <td>NaN</td>\n",
       "      <td>NaN</td>\n",
       "      <td>0</td>\n",
       "      <td>5</td>\n",
       "      <td>2007</td>\n",
       "      <td>WD</td>\n",
       "      <td>Normal</td>\n",
       "      <td>181500</td>\n",
       "    </tr>\n",
       "    <tr>\n",
       "      <th>2</th>\n",
       "      <td>3</td>\n",
       "      <td>60</td>\n",
       "      <td>RL</td>\n",
       "      <td>68.0</td>\n",
       "      <td>11250</td>\n",
       "      <td>Pave</td>\n",
       "      <td>NaN</td>\n",
       "      <td>IR1</td>\n",
       "      <td>Lvl</td>\n",
       "      <td>AllPub</td>\n",
       "      <td>...</td>\n",
       "      <td>0</td>\n",
       "      <td>NaN</td>\n",
       "      <td>NaN</td>\n",
       "      <td>NaN</td>\n",
       "      <td>0</td>\n",
       "      <td>9</td>\n",
       "      <td>2008</td>\n",
       "      <td>WD</td>\n",
       "      <td>Normal</td>\n",
       "      <td>223500</td>\n",
       "    </tr>\n",
       "    <tr>\n",
       "      <th>3</th>\n",
       "      <td>4</td>\n",
       "      <td>70</td>\n",
       "      <td>RL</td>\n",
       "      <td>60.0</td>\n",
       "      <td>9550</td>\n",
       "      <td>Pave</td>\n",
       "      <td>NaN</td>\n",
       "      <td>IR1</td>\n",
       "      <td>Lvl</td>\n",
       "      <td>AllPub</td>\n",
       "      <td>...</td>\n",
       "      <td>0</td>\n",
       "      <td>NaN</td>\n",
       "      <td>NaN</td>\n",
       "      <td>NaN</td>\n",
       "      <td>0</td>\n",
       "      <td>2</td>\n",
       "      <td>2006</td>\n",
       "      <td>WD</td>\n",
       "      <td>Abnorml</td>\n",
       "      <td>140000</td>\n",
       "    </tr>\n",
       "    <tr>\n",
       "      <th>4</th>\n",
       "      <td>5</td>\n",
       "      <td>60</td>\n",
       "      <td>RL</td>\n",
       "      <td>84.0</td>\n",
       "      <td>14260</td>\n",
       "      <td>Pave</td>\n",
       "      <td>NaN</td>\n",
       "      <td>IR1</td>\n",
       "      <td>Lvl</td>\n",
       "      <td>AllPub</td>\n",
       "      <td>...</td>\n",
       "      <td>0</td>\n",
       "      <td>NaN</td>\n",
       "      <td>NaN</td>\n",
       "      <td>NaN</td>\n",
       "      <td>0</td>\n",
       "      <td>12</td>\n",
       "      <td>2008</td>\n",
       "      <td>WD</td>\n",
       "      <td>Normal</td>\n",
       "      <td>250000</td>\n",
       "    </tr>\n",
       "  </tbody>\n",
       "</table>\n",
       "<p>5 rows × 81 columns</p>\n",
       "</div>"
      ],
      "text/plain": [
       "   Id  MSSubClass MSZoning  LotFrontage  LotArea Street Alley LotShape  \\\n",
       "0   1          60       RL         65.0     8450   Pave   NaN      Reg   \n",
       "1   2          20       RL         80.0     9600   Pave   NaN      Reg   \n",
       "2   3          60       RL         68.0    11250   Pave   NaN      IR1   \n",
       "3   4          70       RL         60.0     9550   Pave   NaN      IR1   \n",
       "4   5          60       RL         84.0    14260   Pave   NaN      IR1   \n",
       "\n",
       "  LandContour Utilities  ... PoolArea PoolQC Fence MiscFeature MiscVal MoSold  \\\n",
       "0         Lvl    AllPub  ...        0    NaN   NaN         NaN       0      2   \n",
       "1         Lvl    AllPub  ...        0    NaN   NaN         NaN       0      5   \n",
       "2         Lvl    AllPub  ...        0    NaN   NaN         NaN       0      9   \n",
       "3         Lvl    AllPub  ...        0    NaN   NaN         NaN       0      2   \n",
       "4         Lvl    AllPub  ...        0    NaN   NaN         NaN       0     12   \n",
       "\n",
       "  YrSold  SaleType  SaleCondition  SalePrice  \n",
       "0   2008        WD         Normal     208500  \n",
       "1   2007        WD         Normal     181500  \n",
       "2   2008        WD         Normal     223500  \n",
       "3   2006        WD        Abnorml     140000  \n",
       "4   2008        WD         Normal     250000  \n",
       "\n",
       "[5 rows x 81 columns]"
      ]
     },
     "execution_count": 26,
     "metadata": {},
     "output_type": "execute_result"
    }
   ],
   "source": [
    "train_data = pd.read_csv(\"train.csv\")\n",
    "print(train_data.shape)\n",
    "train_data.head()"
   ]
  },
  {
   "cell_type": "code",
   "execution_count": 27,
   "id": "d3081017",
   "metadata": {},
   "outputs": [
    {
     "name": "stdout",
     "output_type": "stream",
     "text": [
      "(1459, 80)\n"
     ]
    },
    {
     "data": {
      "text/html": [
       "<div>\n",
       "<style scoped>\n",
       "    .dataframe tbody tr th:only-of-type {\n",
       "        vertical-align: middle;\n",
       "    }\n",
       "\n",
       "    .dataframe tbody tr th {\n",
       "        vertical-align: top;\n",
       "    }\n",
       "\n",
       "    .dataframe thead th {\n",
       "        text-align: right;\n",
       "    }\n",
       "</style>\n",
       "<table border=\"1\" class=\"dataframe\">\n",
       "  <thead>\n",
       "    <tr style=\"text-align: right;\">\n",
       "      <th></th>\n",
       "      <th>Id</th>\n",
       "      <th>MSSubClass</th>\n",
       "      <th>MSZoning</th>\n",
       "      <th>LotFrontage</th>\n",
       "      <th>LotArea</th>\n",
       "      <th>Street</th>\n",
       "      <th>Alley</th>\n",
       "      <th>LotShape</th>\n",
       "      <th>LandContour</th>\n",
       "      <th>Utilities</th>\n",
       "      <th>...</th>\n",
       "      <th>ScreenPorch</th>\n",
       "      <th>PoolArea</th>\n",
       "      <th>PoolQC</th>\n",
       "      <th>Fence</th>\n",
       "      <th>MiscFeature</th>\n",
       "      <th>MiscVal</th>\n",
       "      <th>MoSold</th>\n",
       "      <th>YrSold</th>\n",
       "      <th>SaleType</th>\n",
       "      <th>SaleCondition</th>\n",
       "    </tr>\n",
       "  </thead>\n",
       "  <tbody>\n",
       "    <tr>\n",
       "      <th>0</th>\n",
       "      <td>1461</td>\n",
       "      <td>20</td>\n",
       "      <td>RH</td>\n",
       "      <td>80.0</td>\n",
       "      <td>11622</td>\n",
       "      <td>Pave</td>\n",
       "      <td>NaN</td>\n",
       "      <td>Reg</td>\n",
       "      <td>Lvl</td>\n",
       "      <td>AllPub</td>\n",
       "      <td>...</td>\n",
       "      <td>120</td>\n",
       "      <td>0</td>\n",
       "      <td>NaN</td>\n",
       "      <td>MnPrv</td>\n",
       "      <td>NaN</td>\n",
       "      <td>0</td>\n",
       "      <td>6</td>\n",
       "      <td>2010</td>\n",
       "      <td>WD</td>\n",
       "      <td>Normal</td>\n",
       "    </tr>\n",
       "    <tr>\n",
       "      <th>1</th>\n",
       "      <td>1462</td>\n",
       "      <td>20</td>\n",
       "      <td>RL</td>\n",
       "      <td>81.0</td>\n",
       "      <td>14267</td>\n",
       "      <td>Pave</td>\n",
       "      <td>NaN</td>\n",
       "      <td>IR1</td>\n",
       "      <td>Lvl</td>\n",
       "      <td>AllPub</td>\n",
       "      <td>...</td>\n",
       "      <td>0</td>\n",
       "      <td>0</td>\n",
       "      <td>NaN</td>\n",
       "      <td>NaN</td>\n",
       "      <td>Gar2</td>\n",
       "      <td>12500</td>\n",
       "      <td>6</td>\n",
       "      <td>2010</td>\n",
       "      <td>WD</td>\n",
       "      <td>Normal</td>\n",
       "    </tr>\n",
       "    <tr>\n",
       "      <th>2</th>\n",
       "      <td>1463</td>\n",
       "      <td>60</td>\n",
       "      <td>RL</td>\n",
       "      <td>74.0</td>\n",
       "      <td>13830</td>\n",
       "      <td>Pave</td>\n",
       "      <td>NaN</td>\n",
       "      <td>IR1</td>\n",
       "      <td>Lvl</td>\n",
       "      <td>AllPub</td>\n",
       "      <td>...</td>\n",
       "      <td>0</td>\n",
       "      <td>0</td>\n",
       "      <td>NaN</td>\n",
       "      <td>MnPrv</td>\n",
       "      <td>NaN</td>\n",
       "      <td>0</td>\n",
       "      <td>3</td>\n",
       "      <td>2010</td>\n",
       "      <td>WD</td>\n",
       "      <td>Normal</td>\n",
       "    </tr>\n",
       "    <tr>\n",
       "      <th>3</th>\n",
       "      <td>1464</td>\n",
       "      <td>60</td>\n",
       "      <td>RL</td>\n",
       "      <td>78.0</td>\n",
       "      <td>9978</td>\n",
       "      <td>Pave</td>\n",
       "      <td>NaN</td>\n",
       "      <td>IR1</td>\n",
       "      <td>Lvl</td>\n",
       "      <td>AllPub</td>\n",
       "      <td>...</td>\n",
       "      <td>0</td>\n",
       "      <td>0</td>\n",
       "      <td>NaN</td>\n",
       "      <td>NaN</td>\n",
       "      <td>NaN</td>\n",
       "      <td>0</td>\n",
       "      <td>6</td>\n",
       "      <td>2010</td>\n",
       "      <td>WD</td>\n",
       "      <td>Normal</td>\n",
       "    </tr>\n",
       "    <tr>\n",
       "      <th>4</th>\n",
       "      <td>1465</td>\n",
       "      <td>120</td>\n",
       "      <td>RL</td>\n",
       "      <td>43.0</td>\n",
       "      <td>5005</td>\n",
       "      <td>Pave</td>\n",
       "      <td>NaN</td>\n",
       "      <td>IR1</td>\n",
       "      <td>HLS</td>\n",
       "      <td>AllPub</td>\n",
       "      <td>...</td>\n",
       "      <td>144</td>\n",
       "      <td>0</td>\n",
       "      <td>NaN</td>\n",
       "      <td>NaN</td>\n",
       "      <td>NaN</td>\n",
       "      <td>0</td>\n",
       "      <td>1</td>\n",
       "      <td>2010</td>\n",
       "      <td>WD</td>\n",
       "      <td>Normal</td>\n",
       "    </tr>\n",
       "  </tbody>\n",
       "</table>\n",
       "<p>5 rows × 80 columns</p>\n",
       "</div>"
      ],
      "text/plain": [
       "     Id  MSSubClass MSZoning  LotFrontage  LotArea Street Alley LotShape  \\\n",
       "0  1461          20       RH         80.0    11622   Pave   NaN      Reg   \n",
       "1  1462          20       RL         81.0    14267   Pave   NaN      IR1   \n",
       "2  1463          60       RL         74.0    13830   Pave   NaN      IR1   \n",
       "3  1464          60       RL         78.0     9978   Pave   NaN      IR1   \n",
       "4  1465         120       RL         43.0     5005   Pave   NaN      IR1   \n",
       "\n",
       "  LandContour Utilities  ... ScreenPorch PoolArea PoolQC  Fence MiscFeature  \\\n",
       "0         Lvl    AllPub  ...         120        0    NaN  MnPrv         NaN   \n",
       "1         Lvl    AllPub  ...           0        0    NaN    NaN        Gar2   \n",
       "2         Lvl    AllPub  ...           0        0    NaN  MnPrv         NaN   \n",
       "3         Lvl    AllPub  ...           0        0    NaN    NaN         NaN   \n",
       "4         HLS    AllPub  ...         144        0    NaN    NaN         NaN   \n",
       "\n",
       "  MiscVal MoSold  YrSold  SaleType  SaleCondition  \n",
       "0       0      6    2010        WD         Normal  \n",
       "1   12500      6    2010        WD         Normal  \n",
       "2       0      3    2010        WD         Normal  \n",
       "3       0      6    2010        WD         Normal  \n",
       "4       0      1    2010        WD         Normal  \n",
       "\n",
       "[5 rows x 80 columns]"
      ]
     },
     "execution_count": 27,
     "metadata": {},
     "output_type": "execute_result"
    }
   ],
   "source": [
    "test_data = pd.read_csv(\"test.csv\")\n",
    "print(test_data.shape)\n",
    "test_data.head()"
   ]
  },
  {
   "cell_type": "markdown",
   "id": "050497b4",
   "metadata": {},
   "source": [
    "## Step 2 - Inspecting Data, Data Summary, and Visualizations\n",
    "Now I will view view info about the features of the dataset. We can see that we have many \"object\" types. We will need to do some pre-processing with the object types, by either dropping or encoding these features."
   ]
  },
  {
   "cell_type": "code",
   "execution_count": 4,
   "id": "f847e262",
   "metadata": {},
   "outputs": [
    {
     "name": "stdout",
     "output_type": "stream",
     "text": [
      "<class 'pandas.core.frame.DataFrame'>\n",
      "RangeIndex: 1460 entries, 0 to 1459\n",
      "Data columns (total 81 columns):\n",
      " #   Column         Non-Null Count  Dtype  \n",
      "---  ------         --------------  -----  \n",
      " 0   Id             1460 non-null   int64  \n",
      " 1   MSSubClass     1460 non-null   int64  \n",
      " 2   MSZoning       1460 non-null   object \n",
      " 3   LotFrontage    1201 non-null   float64\n",
      " 4   LotArea        1460 non-null   int64  \n",
      " 5   Street         1460 non-null   object \n",
      " 6   Alley          91 non-null     object \n",
      " 7   LotShape       1460 non-null   object \n",
      " 8   LandContour    1460 non-null   object \n",
      " 9   Utilities      1460 non-null   object \n",
      " 10  LotConfig      1460 non-null   object \n",
      " 11  LandSlope      1460 non-null   object \n",
      " 12  Neighborhood   1460 non-null   object \n",
      " 13  Condition1     1460 non-null   object \n",
      " 14  Condition2     1460 non-null   object \n",
      " 15  BldgType       1460 non-null   object \n",
      " 16  HouseStyle     1460 non-null   object \n",
      " 17  OverallQual    1460 non-null   int64  \n",
      " 18  OverallCond    1460 non-null   int64  \n",
      " 19  YearBuilt      1460 non-null   int64  \n",
      " 20  YearRemodAdd   1460 non-null   int64  \n",
      " 21  RoofStyle      1460 non-null   object \n",
      " 22  RoofMatl       1460 non-null   object \n",
      " 23  Exterior1st    1460 non-null   object \n",
      " 24  Exterior2nd    1460 non-null   object \n",
      " 25  MasVnrType     1452 non-null   object \n",
      " 26  MasVnrArea     1452 non-null   float64\n",
      " 27  ExterQual      1460 non-null   object \n",
      " 28  ExterCond      1460 non-null   object \n",
      " 29  Foundation     1460 non-null   object \n",
      " 30  BsmtQual       1423 non-null   object \n",
      " 31  BsmtCond       1423 non-null   object \n",
      " 32  BsmtExposure   1422 non-null   object \n",
      " 33  BsmtFinType1   1423 non-null   object \n",
      " 34  BsmtFinSF1     1460 non-null   int64  \n",
      " 35  BsmtFinType2   1422 non-null   object \n",
      " 36  BsmtFinSF2     1460 non-null   int64  \n",
      " 37  BsmtUnfSF      1460 non-null   int64  \n",
      " 38  TotalBsmtSF    1460 non-null   int64  \n",
      " 39  Heating        1460 non-null   object \n",
      " 40  HeatingQC      1460 non-null   object \n",
      " 41  CentralAir     1460 non-null   object \n",
      " 42  Electrical     1459 non-null   object \n",
      " 43  1stFlrSF       1460 non-null   int64  \n",
      " 44  2ndFlrSF       1460 non-null   int64  \n",
      " 45  LowQualFinSF   1460 non-null   int64  \n",
      " 46  GrLivArea      1460 non-null   int64  \n",
      " 47  BsmtFullBath   1460 non-null   int64  \n",
      " 48  BsmtHalfBath   1460 non-null   int64  \n",
      " 49  FullBath       1460 non-null   int64  \n",
      " 50  HalfBath       1460 non-null   int64  \n",
      " 51  BedroomAbvGr   1460 non-null   int64  \n",
      " 52  KitchenAbvGr   1460 non-null   int64  \n",
      " 53  KitchenQual    1460 non-null   object \n",
      " 54  TotRmsAbvGrd   1460 non-null   int64  \n",
      " 55  Functional     1460 non-null   object \n",
      " 56  Fireplaces     1460 non-null   int64  \n",
      " 57  FireplaceQu    770 non-null    object \n",
      " 58  GarageType     1379 non-null   object \n",
      " 59  GarageYrBlt    1379 non-null   float64\n",
      " 60  GarageFinish   1379 non-null   object \n",
      " 61  GarageCars     1460 non-null   int64  \n",
      " 62  GarageArea     1460 non-null   int64  \n",
      " 63  GarageQual     1379 non-null   object \n",
      " 64  GarageCond     1379 non-null   object \n",
      " 65  PavedDrive     1460 non-null   object \n",
      " 66  WoodDeckSF     1460 non-null   int64  \n",
      " 67  OpenPorchSF    1460 non-null   int64  \n",
      " 68  EnclosedPorch  1460 non-null   int64  \n",
      " 69  3SsnPorch      1460 non-null   int64  \n",
      " 70  ScreenPorch    1460 non-null   int64  \n",
      " 71  PoolArea       1460 non-null   int64  \n",
      " 72  PoolQC         7 non-null      object \n",
      " 73  Fence          281 non-null    object \n",
      " 74  MiscFeature    54 non-null     object \n",
      " 75  MiscVal        1460 non-null   int64  \n",
      " 76  MoSold         1460 non-null   int64  \n",
      " 77  YrSold         1460 non-null   int64  \n",
      " 78  SaleType       1460 non-null   object \n",
      " 79  SaleCondition  1460 non-null   object \n",
      " 80  SalePrice      1460 non-null   int64  \n",
      "dtypes: float64(3), int64(35), object(43)\n",
      "memory usage: 924.0+ KB\n"
     ]
    }
   ],
   "source": [
    "train_data.info()"
   ]
  },
  {
   "cell_type": "code",
   "execution_count": 28,
   "id": "e9ed4be4",
   "metadata": {},
   "outputs": [
    {
     "data": {
      "text/plain": [
       "count      1460.000000\n",
       "mean     180921.195890\n",
       "std       79442.502883\n",
       "min       34900.000000\n",
       "25%      129975.000000\n",
       "50%      163000.000000\n",
       "75%      214000.000000\n",
       "max      755000.000000\n",
       "Name: SalePrice, dtype: float64"
      ]
     },
     "execution_count": 28,
     "metadata": {},
     "output_type": "execute_result"
    }
   ],
   "source": [
    "#Maybe not needed\n",
    "train_data.SalePrice.describe()"
   ]
  },
  {
   "cell_type": "markdown",
   "id": "c6075ea3",
   "metadata": {},
   "source": [
    "My first approach will be too only inspect the numeric features, while dropping the features that are objects."
   ]
  },
  {
   "cell_type": "code",
   "execution_count": 29,
   "id": "02bc1243",
   "metadata": {},
   "outputs": [
    {
     "name": "stdout",
     "output_type": "stream",
     "text": [
      "Id                 int64\n",
      "MSSubClass         int64\n",
      "LotFrontage      float64\n",
      "LotArea            int64\n",
      "OverallQual        int64\n",
      "OverallCond        int64\n",
      "YearBuilt          int64\n",
      "YearRemodAdd       int64\n",
      "MasVnrArea       float64\n",
      "BsmtFinSF1         int64\n",
      "BsmtFinSF2         int64\n",
      "BsmtUnfSF          int64\n",
      "TotalBsmtSF        int64\n",
      "1stFlrSF           int64\n",
      "2ndFlrSF           int64\n",
      "LowQualFinSF       int64\n",
      "GrLivArea          int64\n",
      "BsmtFullBath       int64\n",
      "BsmtHalfBath       int64\n",
      "FullBath           int64\n",
      "HalfBath           int64\n",
      "BedroomAbvGr       int64\n",
      "KitchenAbvGr       int64\n",
      "TotRmsAbvGrd       int64\n",
      "Fireplaces         int64\n",
      "GarageYrBlt      float64\n",
      "GarageCars         int64\n",
      "GarageArea         int64\n",
      "WoodDeckSF         int64\n",
      "OpenPorchSF        int64\n",
      "EnclosedPorch      int64\n",
      "3SsnPorch          int64\n",
      "ScreenPorch        int64\n",
      "PoolArea           int64\n",
      "MiscVal            int64\n",
      "MoSold             int64\n",
      "YrSold             int64\n",
      "SalePrice          int64\n",
      "dtype: object\n",
      "The shape of the numeric features are:  (1460, 38)\n"
     ]
    }
   ],
   "source": [
    "#Numeric Features\n",
    "numeric_features = train_data.select_dtypes(include=[np.number])\n",
    "print(numeric_features.dtypes)\n",
    "print(\"The shape of the numeric features are: \", numeric_features.shape)"
   ]
  },
  {
   "cell_type": "markdown",
   "id": "f7b3df4b",
   "metadata": {},
   "source": [
    "We can inspect the target vector (Sale price) and see that there is an uneven distribtion in the sale prices. To create a more effective model, can try taking the log of the sale price to get an even distribution."
   ]
  },
  {
   "cell_type": "code",
   "execution_count": 30,
   "id": "b7709e0b",
   "metadata": {},
   "outputs": [
    {
     "data": {
      "image/png": "[encoded data removed]",
      "text/plain": [
       "<Figure size 360x360 with 1 Axes>"
      ]
     },
     "metadata": {
      "needs_background": "light"
     },
     "output_type": "display_data"
    }
   ],
   "source": [
    "y_not_log = train_data.SalePrice\n",
    "plt1 = sns.displot(data=y_not_log)"
   ]
  },
  {
   "cell_type": "markdown",
   "id": "99f491db",
   "metadata": {},
   "source": [
    "Here we see the log of the sale price has a nice even distribution. We will need to make sure we change this back from a log after we build our model."
   ]
  },
  {
   "cell_type": "code",
   "execution_count": 31,
   "id": "9a886602",
   "metadata": {},
   "outputs": [
    {
     "data": {
      "image/png": "[encoded data removed]",
      "text/plain": [
       "<Figure size 360x360 with 1 Axes>"
      ]
     },
     "metadata": {
      "needs_background": "light"
     },
     "output_type": "display_data"
    }
   ],
   "source": [
    "y_log = np.log(train_data.SalePrice)\n",
    "plt1 = sns.displot(data=y_log)"
   ]
  },
  {
   "cell_type": "markdown",
   "id": "411356b6",
   "metadata": {},
   "source": [
    "I will now inspect the correlation between the numeric features and the sale price. We will inspect the top 5 and lowest 5 numeric features."
   ]
  },
  {
   "cell_type": "code",
   "execution_count": 32,
   "id": "58efdd81",
   "metadata": {
    "scrolled": true
   },
   "outputs": [
    {
     "name": "stdout",
     "output_type": "stream",
     "text": [
      "SalePrice      1.000000\n",
      "OverallQual    0.790982\n",
      "GrLivArea      0.708624\n",
      "GarageCars     0.640409\n",
      "GarageArea     0.623431\n",
      "Name: SalePrice, dtype: float64 \n",
      "\n",
      "YrSold          -0.028923\n",
      "OverallCond     -0.077856\n",
      "MSSubClass      -0.084284\n",
      "EnclosedPorch   -0.128578\n",
      "KitchenAbvGr    -0.135907\n",
      "Name: SalePrice, dtype: float64\n"
     ]
    }
   ],
   "source": [
    "corr = numeric_features.corr()\n",
    "print (corr['SalePrice'].sort_values(ascending=False)[:5], '\\n')\n",
    "print (corr['SalePrice'].sort_values(ascending=False)[-5:])"
   ]
  },
  {
   "cell_type": "markdown",
   "id": "0bbeb16c",
   "metadata": {},
   "source": [
    "We can plot these top four features to get an visual idea of how these features are distributed and relate to the sale price."
   ]
  },
  {
   "cell_type": "code",
   "execution_count": 41,
   "id": "e5fbaba7",
   "metadata": {},
   "outputs": [
    {
     "data": {
      "image/png": "[encoded data removed]",
      "text/plain": [
       "<Figure size 432x288 with 1 Axes>"
      ]
     },
     "metadata": {
      "needs_background": "light"
     },
     "output_type": "display_data"
    }
   ],
   "source": [
    "target = np.log(train_data.SalePrice)\n",
    "plt.scatter(x=train_data['OverallQual'], y=target)\n",
    "plt.ylabel('Sale Price')\n",
    "plt.xlabel('Overall Home Quality')\n",
    "plt.show()"
   ]
  },
  {
   "cell_type": "code",
   "execution_count": 40,
   "id": "b6ab1029",
   "metadata": {},
   "outputs": [
    {
     "data": {
      "image/png": "[encoded data removed]",
      "text/plain": [
       "<Figure size 432x288 with 1 Axes>"
      ]
     },
     "metadata": {
      "needs_background": "light"
     },
     "output_type": "display_data"
    }
   ],
   "source": [
    "plt.scatter(x=train_data['GrLivArea'], y=target)\n",
    "plt.ylabel('Sale Price')\n",
    "plt.xlabel('Above grade (ground) living area square feet')\n",
    "plt.show()"
   ]
  },
  {
   "cell_type": "code",
   "execution_count": 39,
   "id": "0d2b79d9",
   "metadata": {},
   "outputs": [
    {
     "data": {
      "image/png": "[encoded data removed]",
      "text/plain": [
       "<Figure size 432x288 with 1 Axes>"
      ]
     },
     "metadata": {
      "needs_background": "light"
     },
     "output_type": "display_data"
    }
   ],
   "source": [
    "plt.scatter(x=train_data['GarageCars'], y=target)\n",
    "plt.ylabel('Sale Price')\n",
    "plt.xlabel('Number of cars per garage')\n",
    "plt.show()"
   ]
  },
  {
   "cell_type": "code",
   "execution_count": 38,
   "id": "2d31bc2f",
   "metadata": {},
   "outputs": [
    {
     "data": {
      "image/png": "[encoded data removed]",
      "text/plain": [
       "<Figure size 432x288 with 1 Axes>"
      ]
     },
     "metadata": {
      "needs_background": "light"
     },
     "output_type": "display_data"
    }
   ],
   "source": [
    "plt.scatter(x=train_data['GarageArea'], y=target)\n",
    "plt.ylabel('Sale Price')\n",
    "plt.xlabel('Total size of Garage')\n",
    "plt.show()"
   ]
  },
  {
   "cell_type": "markdown",
   "id": "cf41742d",
   "metadata": {},
   "source": [
    "We can see there is a relatively linear correlation between these features and the sale price. We can view this as an indicator that these features should be relatively sucessful in building a mdoel to determine the home prices accurately."
   ]
  },
  {
   "cell_type": "markdown",
   "id": "b2d9ac43",
   "metadata": {},
   "source": [
    "## Step 3 - Pre-processing\n",
    "\n",
    "We will now create a preprocessed dataset, which includes only the numerical features and also interpolate to fill in all missing values.  \n",
    "\n",
    "After that we will create our feature matrix and target matrix. The feature matrix will drop the sale price and ID, since the sale price if the target vector, and the ID just signifies which entries are which, and are not related to house prices. The target Matrix is the saleprice feature, but we will use a log of this feature as discussed above."
   ]
  },
  {
   "cell_type": "code",
   "execution_count": 4,
   "id": "9ae3712e",
   "metadata": {},
   "outputs": [],
   "source": [
    "preprocessed_data = train_data.select_dtypes(include=[np.number]).interpolate().dropna()\n",
    "\n",
    "y = np.log(train_data.SalePrice)\n",
    "X = preprocessed_data.drop(['SalePrice', 'Id'], axis=1)\n"
   ]
  },
  {
   "cell_type": "markdown",
   "id": "35d91f82",
   "metadata": {},
   "source": [
    "## Step 4 - Testing on Machine Learning Models\n",
    "We will now split the data into a training and test set."
   ]
  },
  {
   "cell_type": "code",
   "execution_count": 5,
   "id": "41db7649",
   "metadata": {},
   "outputs": [],
   "source": [
    "from sklearn.model_selection import train_test_split\n",
    "\n",
    "X_train, X_test, y_train, y_test = train_test_split(X, y, random_state=37, test_size = 0.2)"
   ]
  },
  {
   "cell_type": "markdown",
   "id": "cb805ab4",
   "metadata": {},
   "source": [
    "We can now try out several different type of regressors to see hich gives the best result."
   ]
  },
  {
   "cell_type": "code",
   "execution_count": 6,
   "id": "a1200ced",
   "metadata": {},
   "outputs": [
    {
     "name": "stdout",
     "output_type": "stream",
     "text": [
      "Linear Regression Model:\n",
      "Accuracy on training set: 0.879\n",
      "Accuracy on test set: 0.814\n"
     ]
    }
   ],
   "source": [
    "from sklearn.linear_model import LinearRegression\n",
    "\n",
    "model_lr = LinearRegression().fit(X_train, y_train)\n",
    "\n",
    "print(\"Linear Regression Model:\")\n",
    "print(\"Accuracy on training set: {:.3f}\".format(model_lr.score(X_train, y_train)))\n",
    "print(\"Accuracy on test set: {:.3f}\".format(model_lr.score(X_test, y_test)))"
   ]
  },
  {
   "cell_type": "code",
   "execution_count": 7,
   "id": "2f60f72e",
   "metadata": {},
   "outputs": [
    {
     "name": "stdout",
     "output_type": "stream",
     "text": [
      "Random Forest Regressor Model:\n",
      "Accuracy on training set: 0.982\n",
      "Accuracy on test set: 0.810\n"
     ]
    }
   ],
   "source": [
    "from sklearn.ensemble import RandomForestRegressor\n",
    "\n",
    "model_RFR = RandomForestRegressor(random_state=79).fit(X_train, y_train)\n",
    "\n",
    "print(\"Random Forest Regressor Model:\")\n",
    "print(\"Accuracy on training set: {:.3f}\".format(model_RFR.score(X_train, y_train)))\n",
    "print(\"Accuracy on test set: {:.3f}\".format(model_RFR.score(X_test, y_test)))"
   ]
  },
  {
   "cell_type": "code",
   "execution_count": 8,
   "id": "92519d84",
   "metadata": {},
   "outputs": [
    {
     "name": "stdout",
     "output_type": "stream",
     "text": [
      "Gradient Boosting Regressor Model:\n",
      "Accuracy on training set: 0.955\n",
      "Accuracy on test set: 0.859\n"
     ]
    }
   ],
   "source": [
    "from sklearn.ensemble import GradientBoostingRegressor\n",
    "\n",
    "model_GBR = GradientBoostingRegressor(random_state=79).fit(X_train, y_train)\n",
    "\n",
    "print(\"Gradient Boosting Regressor Model:\")\n",
    "print(\"Accuracy on training set: {:.3f}\".format(model_GBR.score(X_train, y_train)))\n",
    "print(\"Accuracy on test set: {:.3f}\".format(model_GBR.score(X_test, y_test)))"
   ]
  },
  {
   "cell_type": "code",
   "execution_count": 9,
   "id": "dee31e23",
   "metadata": {},
   "outputs": [
    {
     "name": "stdout",
     "output_type": "stream",
     "text": [
      "SVR Model:\n",
      "Accuracy on training set: 0.758\n",
      "Accuracy on test set: 0.723\n"
     ]
    }
   ],
   "source": [
    "from sklearn.svm import SVR\n",
    "\n",
    "model_SVR = SVR().fit(X_train, y_train)\n",
    "\n",
    "print(\"SVR Model:\")\n",
    "print(\"Accuracy on training set: {:.3f}\".format(model_SVR.score(X_train, y_train)))\n",
    "print(\"Accuracy on test set: {:.3f}\".format(model_SVR.score(X_test, y_test)))"
   ]
  },
  {
   "cell_type": "markdown",
   "id": "8767c985",
   "metadata": {},
   "source": [
    "We can see that the gradient boosted regressor has the highest score, however the accuracy of the training set and the accuracy of the train set have a high deviance.\n",
    "\n",
    "We can now cross validate the negative RMS scores."
   ]
  },
  {
   "cell_type": "code",
   "execution_count": 10,
   "id": "f3ff914c",
   "metadata": {},
   "outputs": [],
   "source": [
    "from sklearn.model_selection import cross_validate\n",
    "\n",
    "\n",
    "def get_regressor_neg_rms(model, X, y, cv=7):\n",
    "    '''Calculate train and validation score for regressor (model) using cross-validation\n",
    "        \n",
    "        score is negative root mean-squared error (rms).\n",
    "        \n",
    "        model (sklearn classifier): Regressor to train and evaluate\n",
    "        X (numpy.array or pandas.DataFrame): Feature matrix\n",
    "        y (numpy.array or pandas.Series): Target vector\n",
    "        \n",
    "        returns: mean training negative rms, mean validation negative rms\n",
    "    \n",
    "    '''    \n",
    "    scores = cross_validate(model, X, y, cv=7, scoring=('neg_root_mean_squared_error'), return_train_score=True)\n",
    "    \n",
    "    return scores['train_score'].mean(), scores['test_score'].mean()"
   ]
  },
  {
   "cell_type": "code",
   "execution_count": 11,
   "id": "9d77ed7e",
   "metadata": {},
   "outputs": [
    {
     "name": "stdout",
     "output_type": "stream",
     "text": [
      "Linear Regression:\n",
      "Training Negative Root-Mean Squared Error: -0.139\n",
      "Test Negative Root-Mean Squared Error: -0.152\n",
      "\n",
      "Random Forest Regressor:\n",
      "Training Negative Root-Mean Squared Error: -0.056\n",
      "Test Negative Root-Mean Squared Error: -0.146\n",
      "\n",
      "Gradient Boosting Regressor:\n",
      "Training Negative Root-Mean Squared Error: -0.082\n",
      "Test Negative Root-Mean Squared Error: -0.135\n",
      "\n"
     ]
    }
   ],
   "source": [
    "models = [LinearRegression(), RandomForestRegressor(random_state=64), GradientBoostingRegressor(random_state=79)]\n",
    "title = [\"Linear Regression:\", \"Random Forest Regressor:\", \"Gradient Boosting Regressor:\"]\n",
    "\n",
    "for i in range(len(models)):\n",
    "    accuracy = (get_regressor_neg_rms(models[i], X_train, y_train, cv=7))\n",
    "    print(title[i])\n",
    "    print(\"Training Negative Root-Mean Squared Error: {:.3f}\".format(accuracy[0]))\n",
    "    print(\"Test Negative Root-Mean Squared Error: {:.3f}\".format(accuracy[1]))\n",
    "    print()"
   ]
  },
  {
   "cell_type": "markdown",
   "id": "9072900a",
   "metadata": {},
   "source": [
    "We can see that the Gradient Boosting Regressor has the RMSE that is the closest to zero, so this is likely a good model. We can now try fine tuning the various parameters."
   ]
  },
  {
   "cell_type": "code",
   "execution_count": 12,
   "id": "a6a588cc",
   "metadata": {},
   "outputs": [
    {
     "name": "stdout",
     "output_type": "stream",
     "text": [
      "Max depth:  1\n",
      "N estimators:  100\n",
      "Learning rate:  0.01\n",
      "Training Negative Root-Mean Squared Error: -0.293\n",
      "Test Negative Root-Mean Squared Error: -0.294\n",
      "Max depth:  1\n",
      "N estimators:  100\n",
      "Learning rate:  0.1\n",
      "Training Negative Root-Mean Squared Error: -0.138\n",
      "Test Negative Root-Mean Squared Error: -0.152\n",
      "Max depth:  1\n",
      "N estimators:  100\n",
      "Learning rate:  1.0\n",
      "Training Negative Root-Mean Squared Error: -0.108\n",
      "Test Negative Root-Mean Squared Error: -0.148\n",
      "Max depth:  1\n",
      "N estimators:  200\n",
      "Learning rate:  0.01\n",
      "Training Negative Root-Mean Squared Error: -0.241\n",
      "Test Negative Root-Mean Squared Error: -0.244\n",
      "Max depth:  1\n",
      "N estimators:  200\n",
      "Learning rate:  0.1\n",
      "Training Negative Root-Mean Squared Error: -0.118\n",
      "Test Negative Root-Mean Squared Error: -0.141\n",
      "Max depth:  1\n",
      "N estimators:  200\n",
      "Learning rate:  1.0\n",
      "Training Negative Root-Mean Squared Error: -0.095\n",
      "Test Negative Root-Mean Squared Error: -0.145\n",
      "Max depth:  1\n",
      "N estimators:  500\n",
      "Learning rate:  0.01\n",
      "Training Negative Root-Mean Squared Error: -0.174\n",
      "Test Negative Root-Mean Squared Error: -0.183\n",
      "Max depth:  1\n",
      "N estimators:  500\n",
      "Learning rate:  0.1\n",
      "Training Negative Root-Mean Squared Error: -0.106\n",
      "Test Negative Root-Mean Squared Error: -0.137\n",
      "Max depth:  1\n",
      "N estimators:  500\n",
      "Learning rate:  1.0\n",
      "Training Negative Root-Mean Squared Error: -0.080\n",
      "Test Negative Root-Mean Squared Error: -0.146\n",
      "Max depth:  3\n",
      "N estimators:  100\n",
      "Learning rate:  0.01\n",
      "Training Negative Root-Mean Squared Error: -0.223\n",
      "Test Negative Root-Mean Squared Error: -0.232\n",
      "Max depth:  3\n",
      "N estimators:  100\n",
      "Learning rate:  0.1\n",
      "Training Negative Root-Mean Squared Error: -0.082\n",
      "Test Negative Root-Mean Squared Error: -0.136\n",
      "Max depth:  3\n",
      "N estimators:  100\n",
      "Learning rate:  1.0\n",
      "Training Negative Root-Mean Squared Error: -0.024\n",
      "Test Negative Root-Mean Squared Error: -0.198\n",
      "Max depth:  3\n",
      "N estimators:  200\n",
      "Learning rate:  0.01\n",
      "Training Negative Root-Mean Squared Error: -0.152\n",
      "Test Negative Root-Mean Squared Error: -0.172\n",
      "Max depth:  3\n",
      "N estimators:  200\n",
      "Learning rate:  0.1\n",
      "Training Negative Root-Mean Squared Error: -0.063\n",
      "Test Negative Root-Mean Squared Error: -0.135\n",
      "Max depth:  3\n",
      "N estimators:  200\n",
      "Learning rate:  1.0\n",
      "Training Negative Root-Mean Squared Error: -0.006\n",
      "Test Negative Root-Mean Squared Error: -0.201\n",
      "Max depth:  3\n",
      "N estimators:  500\n",
      "Learning rate:  0.01\n",
      "Training Negative Root-Mean Squared Error: -0.098\n",
      "Test Negative Root-Mean Squared Error: -0.139\n",
      "Max depth:  3\n",
      "N estimators:  500\n",
      "Learning rate:  0.1\n",
      "Training Negative Root-Mean Squared Error: -0.034\n",
      "Test Negative Root-Mean Squared Error: -0.135\n",
      "Max depth:  3\n",
      "N estimators:  500\n",
      "Learning rate:  1.0\n",
      "Training Negative Root-Mean Squared Error: -0.000\n",
      "Test Negative Root-Mean Squared Error: -0.202\n",
      "Max depth:  5\n",
      "N estimators:  100\n",
      "Learning rate:  0.01\n",
      "Training Negative Root-Mean Squared Error: -0.187\n",
      "Test Negative Root-Mean Squared Error: -0.215\n",
      "Max depth:  5\n",
      "N estimators:  100\n",
      "Learning rate:  0.1\n",
      "Training Negative Root-Mean Squared Error: -0.037\n",
      "Test Negative Root-Mean Squared Error: -0.139\n",
      "Max depth:  5\n",
      "N estimators:  100\n",
      "Learning rate:  1.0\n",
      "Training Negative Root-Mean Squared Error: -0.000\n",
      "Test Negative Root-Mean Squared Error: -0.218\n",
      "Max depth:  5\n",
      "N estimators:  200\n",
      "Learning rate:  0.01\n",
      "Training Negative Root-Mean Squared Error: -0.106\n",
      "Test Negative Root-Mean Squared Error: -0.160\n",
      "Max depth:  5\n",
      "N estimators:  200\n",
      "Learning rate:  0.1\n",
      "Training Negative Root-Mean Squared Error: -0.019\n",
      "Test Negative Root-Mean Squared Error: -0.139\n",
      "Max depth:  5\n",
      "N estimators:  200\n",
      "Learning rate:  1.0\n",
      "Training Negative Root-Mean Squared Error: -0.000\n",
      "Test Negative Root-Mean Squared Error: -0.218\n",
      "Max depth:  5\n",
      "N estimators:  500\n",
      "Learning rate:  0.01\n",
      "Training Negative Root-Mean Squared Error: -0.053\n",
      "Test Negative Root-Mean Squared Error: -0.138\n",
      "Max depth:  5\n",
      "N estimators:  500\n",
      "Learning rate:  0.1\n",
      "Training Negative Root-Mean Squared Error: -0.003\n",
      "Test Negative Root-Mean Squared Error: -0.139\n",
      "Max depth:  5\n",
      "N estimators:  500\n",
      "Learning rate:  1.0\n",
      "Training Negative Root-Mean Squared Error: -0.000\n",
      "Test Negative Root-Mean Squared Error: -0.218\n",
      "Max depth:  7\n",
      "N estimators:  100\n",
      "Learning rate:  0.01\n",
      "Training Negative Root-Mean Squared Error: -0.164\n",
      "Test Negative Root-Mean Squared Error: -0.210\n",
      "Max depth:  7\n",
      "N estimators:  100\n",
      "Learning rate:  0.1\n",
      "Training Negative Root-Mean Squared Error: -0.009\n",
      "Test Negative Root-Mean Squared Error: -0.144\n",
      "Max depth:  7\n",
      "N estimators:  100\n",
      "Learning rate:  1.0\n",
      "Training Negative Root-Mean Squared Error: -0.000\n",
      "Test Negative Root-Mean Squared Error: -0.210\n",
      "Max depth:  7\n",
      "N estimators:  200\n",
      "Learning rate:  0.01\n",
      "Training Negative Root-Mean Squared Error: -0.074\n",
      "Test Negative Root-Mean Squared Error: -0.161\n",
      "Max depth:  7\n",
      "N estimators:  200\n",
      "Learning rate:  0.1\n",
      "Training Negative Root-Mean Squared Error: -0.002\n",
      "Test Negative Root-Mean Squared Error: -0.143\n",
      "Max depth:  7\n",
      "N estimators:  200\n",
      "Learning rate:  1.0\n",
      "Training Negative Root-Mean Squared Error: -0.000\n",
      "Test Negative Root-Mean Squared Error: -0.210\n",
      "Max depth:  7\n",
      "N estimators:  500\n",
      "Learning rate:  0.01\n",
      "Training Negative Root-Mean Squared Error: -0.019\n",
      "Test Negative Root-Mean Squared Error: -0.146\n",
      "Max depth:  7\n",
      "N estimators:  500\n",
      "Learning rate:  0.1\n",
      "Training Negative Root-Mean Squared Error: -0.000\n",
      "Test Negative Root-Mean Squared Error: -0.143\n",
      "Max depth:  7\n",
      "N estimators:  500\n",
      "Learning rate:  1.0\n",
      "Training Negative Root-Mean Squared Error: 0.000\n",
      "Test Negative Root-Mean Squared Error: -0.210\n"
     ]
    }
   ],
   "source": [
    "#TODO: Calling get_regressor_neg_rms() for each parameter pair\n",
    "\n",
    "max_depth = [1, 3, 5, 7]\n",
    "n_estimators = [100, 200, 500]\n",
    "learning_rate =  [0.01, 0.1, 1.0]\n",
    "\n",
    "for i in max_depth:\n",
    "    for j in n_estimators:\n",
    "        for k in learning_rate:\n",
    "            print(\"Max depth: \", i)\n",
    "            print(\"N estimators: \", j)\n",
    "            print(\"Learning rate: \", k)\n",
    "            model = GradientBoostingRegressor(learning_rate = k, max_depth = i, n_estimators = j, random_state=64)\n",
    "            accuracy = (get_regressor_neg_rms(model, X_train, y_train, cv=7))\n",
    "            print(\"Training Negative Root-Mean Squared Error: {:.3f}\".format(accuracy[0]))\n",
    "            print(\"Test Negative Root-Mean Squared Error: {:.3f}\".format(accuracy[1]))"
   ]
  },
  {
   "cell_type": "markdown",
   "id": "df562f70",
   "metadata": {},
   "source": [
    "From the results above we see that none of the test scores above are closer to zero than the defult parameters. This is quite disapointing, however we will now select the best parameters from above and try futher refinement."
   ]
  },
  {
   "cell_type": "code",
   "execution_count": 13,
   "id": "12ca64a8",
   "metadata": {},
   "outputs": [
    {
     "name": "stdout",
     "output_type": "stream",
     "text": [
      "Max depth:  2\n",
      "N estimators:  300\n",
      "Learning rate:  0.05\n",
      "Training Negative Root-Mean Squared Error: -0.095\n",
      "Test Negative Root-Mean Squared Error: -0.136\n",
      "Max depth:  2\n",
      "N estimators:  300\n",
      "Learning rate:  0.1\n",
      "Training Negative Root-Mean Squared Error: -0.081\n",
      "Test Negative Root-Mean Squared Error: -0.135\n",
      "Max depth:  2\n",
      "N estimators:  300\n",
      "Learning rate:  0.15\n",
      "Training Negative Root-Mean Squared Error: -0.071\n",
      "Test Negative Root-Mean Squared Error: -0.136\n",
      "Max depth:  2\n",
      "N estimators:  400\n",
      "Learning rate:  0.05\n",
      "Training Negative Root-Mean Squared Error: -0.090\n",
      "Test Negative Root-Mean Squared Error: -0.135\n",
      "Max depth:  2\n",
      "N estimators:  400\n",
      "Learning rate:  0.1\n",
      "Training Negative Root-Mean Squared Error: -0.073\n",
      "Test Negative Root-Mean Squared Error: -0.135\n",
      "Max depth:  2\n",
      "N estimators:  400\n",
      "Learning rate:  0.15\n",
      "Training Negative Root-Mean Squared Error: -0.062\n",
      "Test Negative Root-Mean Squared Error: -0.136\n",
      "Max depth:  2\n",
      "N estimators:  500\n",
      "Learning rate:  0.05\n",
      "Training Negative Root-Mean Squared Error: -0.085\n",
      "Test Negative Root-Mean Squared Error: -0.134\n",
      "Max depth:  2\n",
      "N estimators:  500\n",
      "Learning rate:  0.1\n",
      "Training Negative Root-Mean Squared Error: -0.067\n",
      "Test Negative Root-Mean Squared Error: -0.135\n",
      "Max depth:  2\n",
      "N estimators:  500\n",
      "Learning rate:  0.15\n",
      "Training Negative Root-Mean Squared Error: -0.056\n",
      "Test Negative Root-Mean Squared Error: -0.136\n",
      "Max depth:  3\n",
      "N estimators:  300\n",
      "Learning rate:  0.05\n",
      "Training Negative Root-Mean Squared Error: -0.072\n",
      "Test Negative Root-Mean Squared Error: -0.134\n",
      "Max depth:  3\n",
      "N estimators:  300\n",
      "Learning rate:  0.1\n",
      "Training Negative Root-Mean Squared Error: -0.050\n",
      "Test Negative Root-Mean Squared Error: -0.135\n",
      "Max depth:  3\n",
      "N estimators:  300\n",
      "Learning rate:  0.15\n",
      "Training Negative Root-Mean Squared Error: -0.037\n",
      "Test Negative Root-Mean Squared Error: -0.135\n",
      "Max depth:  3\n",
      "N estimators:  400\n",
      "Learning rate:  0.05\n",
      "Training Negative Root-Mean Squared Error: -0.064\n",
      "Test Negative Root-Mean Squared Error: -0.133\n",
      "Max depth:  3\n",
      "N estimators:  400\n",
      "Learning rate:  0.1\n",
      "Training Negative Root-Mean Squared Error: -0.041\n",
      "Test Negative Root-Mean Squared Error: -0.135\n",
      "Max depth:  3\n",
      "N estimators:  400\n",
      "Learning rate:  0.15\n",
      "Training Negative Root-Mean Squared Error: -0.028\n",
      "Test Negative Root-Mean Squared Error: -0.136\n",
      "Max depth:  3\n",
      "N estimators:  500\n",
      "Learning rate:  0.05\n",
      "Training Negative Root-Mean Squared Error: -0.057\n",
      "Test Negative Root-Mean Squared Error: -0.133\n",
      "Max depth:  3\n",
      "N estimators:  500\n",
      "Learning rate:  0.1\n",
      "Training Negative Root-Mean Squared Error: -0.034\n",
      "Test Negative Root-Mean Squared Error: -0.135\n",
      "Max depth:  3\n",
      "N estimators:  500\n",
      "Learning rate:  0.15\n",
      "Training Negative Root-Mean Squared Error: -0.022\n",
      "Test Negative Root-Mean Squared Error: -0.136\n",
      "Max depth:  4\n",
      "N estimators:  300\n",
      "Learning rate:  0.05\n",
      "Training Negative Root-Mean Squared Error: -0.048\n",
      "Test Negative Root-Mean Squared Error: -0.135\n",
      "Max depth:  4\n",
      "N estimators:  300\n",
      "Learning rate:  0.1\n",
      "Training Negative Root-Mean Squared Error: -0.027\n",
      "Test Negative Root-Mean Squared Error: -0.138\n",
      "Max depth:  4\n",
      "N estimators:  300\n",
      "Learning rate:  0.15\n",
      "Training Negative Root-Mean Squared Error: -0.015\n",
      "Test Negative Root-Mean Squared Error: -0.139\n",
      "Max depth:  4\n",
      "N estimators:  400\n",
      "Learning rate:  0.05\n",
      "Training Negative Root-Mean Squared Error: -0.039\n",
      "Test Negative Root-Mean Squared Error: -0.135\n",
      "Max depth:  4\n",
      "N estimators:  400\n",
      "Learning rate:  0.1\n",
      "Training Negative Root-Mean Squared Error: -0.019\n",
      "Test Negative Root-Mean Squared Error: -0.138\n",
      "Max depth:  4\n",
      "N estimators:  400\n",
      "Learning rate:  0.15\n",
      "Training Negative Root-Mean Squared Error: -0.009\n",
      "Test Negative Root-Mean Squared Error: -0.139\n",
      "Max depth:  4\n",
      "N estimators:  500\n",
      "Learning rate:  0.05\n",
      "Training Negative Root-Mean Squared Error: -0.032\n",
      "Test Negative Root-Mean Squared Error: -0.135\n",
      "Max depth:  4\n",
      "N estimators:  500\n",
      "Learning rate:  0.1\n",
      "Training Negative Root-Mean Squared Error: -0.013\n",
      "Test Negative Root-Mean Squared Error: -0.138\n",
      "Max depth:  4\n",
      "N estimators:  500\n",
      "Learning rate:  0.15\n",
      "Training Negative Root-Mean Squared Error: -0.005\n",
      "Test Negative Root-Mean Squared Error: -0.139\n"
     ]
    }
   ],
   "source": [
    "max_depth = [2, 3, 4]\n",
    "n_estimators = [300, 400, 500]\n",
    "learning_rate =  [0.05, 0.10, 0.15]\n",
    "\n",
    "for i in max_depth:\n",
    "    for j in n_estimators:\n",
    "        for k in learning_rate:\n",
    "            print(\"Max depth: \", i)\n",
    "            print(\"N estimators: \", j)\n",
    "            print(\"Learning rate: \", k)\n",
    "            model = GradientBoostingRegressor(learning_rate = k, max_depth = i, n_estimators = j, random_state=64)\n",
    "            accuracy = (get_regressor_neg_rms(model, X_train, y_train, cv=7))\n",
    "            print(\"Training Negative Root-Mean Squared Error: {:.3f}\".format(accuracy[0]))\n",
    "            print(\"Test Negative Root-Mean Squared Error: {:.3f}\".format(accuracy[1]))"
   ]
  },
  {
   "cell_type": "markdown",
   "id": "02e23022",
   "metadata": {},
   "source": [
    "There is some marginal improvement over the default parameters here. We will go ahead with the max depth=3, N-estimators=400 and the learing rate of 0.05. This has the testing RMSE closest to zero, along with the training score that is most closely correlated to the testing score. "
   ]
  },
  {
   "cell_type": "markdown",
   "id": "16a054db",
   "metadata": {},
   "source": [
    "Next we will get our Kaggle submission file ready for submission. TO prepare the file we must perform the same transformations on the test_data that we did to the training data. In this case that means dropping all non-numeric features, drop the ID column, and interpolate to fill in missing values.  \n",
    "\n",
    "We will then apply our model with our refined parameters determined above. "
   ]
  },
  {
   "cell_type": "code",
   "execution_count": 15,
   "id": "7dc0f693",
   "metadata": {},
   "outputs": [],
   "source": [
    "submission = pd.DataFrame()\n",
    "submission['Id'] = test_data.Id\n",
    "features = test_data.select_dtypes(\n",
    "        include=[np.number]).drop(['Id'], axis=1).interpolate()\n",
    "\n",
    "model_GBR = GradientBoostingRegressor(learning_rate = 0.05, max_depth = 3, n_estimators = 400, random_state=64)\n",
    "model_GBR.fit(X_train, y_train)\n",
    "\n",
    "predictions = model_GBR.predict(features)\n"
   ]
  },
  {
   "cell_type": "markdown",
   "id": "b824a865",
   "metadata": {},
   "source": [
    "Next since we can't have the final results as a logorithic interpretation of the homes value we must apply an exponent to our predictions to convert them back to the regular values. This is shown below."
   ]
  },
  {
   "cell_type": "code",
   "execution_count": 19,
   "id": "48900075",
   "metadata": {},
   "outputs": [],
   "source": [
    "final_predictions = np.exp(predictions)"
   ]
  },
  {
   "cell_type": "code",
   "execution_count": 16,
   "id": "2c93586d",
   "metadata": {},
   "outputs": [
    {
     "name": "stdout",
     "output_type": "stream",
     "text": [
      "Original predictions are: \n",
      " [11.75792135 11.91821999 12.08571512 12.14237864 12.12814397] \n",
      "\n",
      "Final predictions are: \n",
      " [127761.60616488 149974.41458855 177320.67857905 187658.41340534\n",
      " 185006.08017031]\n"
     ]
    }
   ],
   "source": [
    "print (\"Original predictions are: \\n\", predictions[:5], \"\\n\")\n",
    "print (\"Final predictions are: \\n\", final_predictions[:5])"
   ]
  },
  {
   "cell_type": "markdown",
   "id": "6b5f8a21",
   "metadata": {},
   "source": [
    "We will have a quick look at the head of our submissino to ensure it is in the correct format for submission. We can see below that everything looks good."
   ]
  },
  {
   "cell_type": "code",
   "execution_count": 17,
   "id": "c7a769a7",
   "metadata": {},
   "outputs": [
    {
     "data": {
      "text/html": [
       "<div>\n",
       "<style scoped>\n",
       "    .dataframe tbody tr th:only-of-type {\n",
       "        vertical-align: middle;\n",
       "    }\n",
       "\n",
       "    .dataframe tbody tr th {\n",
       "        vertical-align: top;\n",
       "    }\n",
       "\n",
       "    .dataframe thead th {\n",
       "        text-align: right;\n",
       "    }\n",
       "</style>\n",
       "<table border=\"1\" class=\"dataframe\">\n",
       "  <thead>\n",
       "    <tr style=\"text-align: right;\">\n",
       "      <th></th>\n",
       "      <th>Id</th>\n",
       "      <th>SalePrice</th>\n",
       "    </tr>\n",
       "  </thead>\n",
       "  <tbody>\n",
       "    <tr>\n",
       "      <th>0</th>\n",
       "      <td>1461</td>\n",
       "      <td>127761.606165</td>\n",
       "    </tr>\n",
       "    <tr>\n",
       "      <th>1</th>\n",
       "      <td>1462</td>\n",
       "      <td>149974.414589</td>\n",
       "    </tr>\n",
       "    <tr>\n",
       "      <th>2</th>\n",
       "      <td>1463</td>\n",
       "      <td>177320.678579</td>\n",
       "    </tr>\n",
       "    <tr>\n",
       "      <th>3</th>\n",
       "      <td>1464</td>\n",
       "      <td>187658.413405</td>\n",
       "    </tr>\n",
       "    <tr>\n",
       "      <th>4</th>\n",
       "      <td>1465</td>\n",
       "      <td>185006.080170</td>\n",
       "    </tr>\n",
       "  </tbody>\n",
       "</table>\n",
       "</div>"
      ],
      "text/plain": [
       "     Id      SalePrice\n",
       "0  1461  127761.606165\n",
       "1  1462  149974.414589\n",
       "2  1463  177320.678579\n",
       "3  1464  187658.413405\n",
       "4  1465  185006.080170"
      ]
     },
     "execution_count": 17,
     "metadata": {},
     "output_type": "execute_result"
    }
   ],
   "source": [
    "submission['SalePrice'] = final_predictions\n",
    "submission.head()"
   ]
  },
  {
   "cell_type": "markdown",
   "id": "f9cd81b4",
   "metadata": {},
   "source": [
    "Lastly we export as a CVS and submit to Kaggle."
   ]
  },
  {
   "cell_type": "code",
   "execution_count": 18,
   "id": "32dcdc64",
   "metadata": {},
   "outputs": [],
   "source": [
    "submission.to_csv('submission.csv', index=False)"
   ]
  },
  {
   "cell_type": "markdown",
   "id": "e1ac17f6",
   "metadata": {},
   "source": [
    "# Results, Interpretation, and Final Reflections"
   ]
  },
  {
   "cell_type": "markdown",
   "id": "b2637219",
   "metadata": {},
   "source": [
    "## Data Summary\n",
    "\n",
    "The data that was used was only the numerical features from the housing dataset. As shown by the visualizations in step 2 there are several features with large correlation to the houseing prices, so this seemed to be a good place to start adapting a model. For more information on the summarized and visualized data please see step 2."
   ]
  },
  {
   "cell_type": "markdown",
   "id": "f6f83714",
   "metadata": {},
   "source": [
    "## Model selection  \n",
    "\n",
    "I used all the common models covered in the course to train and test the data and develop my solutions.  \n",
    "There models are as follows:  \n",
    "Linear Regression\n",
    "Random Forest Regressor\n",
    "Gradient Boosting Regressor\n",
    "Support Vector Regression\n",
    "\n",
    "The first model I tried was the Linear Regression model. Using this model with default parameters I got a test set score of 81.4%, and a root mean square error of -0.152. When I submitted this model into Kaggle I got a score of 0.14797.  \n",
    "\n",
    "From here I tested out the four models shown above and found the Gradient Boosting Regressor model had the best performance on the numerical features data set. \n",
    "\n",
    "The Gradient Boosting Regressor model with the default parameters got a test set score of 85.9%, and a root mean square error of -0.135. When I submitted this model into Kaggle I got a score of 0.14055.  \n",
    "\n",
    "After several iterations of parameter tuning, I managed tofind slightly better performance through tuning the parameters of the Gradient Boosting Regressor model. The chosen paramters were: max depth=3, N-estimators=400 and the learing rate of 0.05. With these I achieved a root mean square error of -0.133. When I submitted this model into Kaggle I got a slightly improved score of 0.13965."
   ]
  },
  {
   "cell_type": "markdown",
   "id": "9f588472",
   "metadata": {},
   "source": [
    "## Interpretation\n",
    "\n",
    "The topic I wanted to cover in this project was to become familair with Kaggle competition, how they work and how to build a model for one, then refine my model to achieve a better score.  \n",
    "\n",
    "All of these goals were achieved by this final project."
   ]
  },
  {
   "cell_type": "markdown",
   "id": "490bcb85",
   "metadata": {},
   "source": [
    "## Reflection\n",
    "\n",
    "There was no deviations from the core goals of the project. I dit not have time to expore XGBoost library and/or nearal networks using keras as an alternate classifier. This will be a future endevour for my future machine learnning projects.\n",
    "\n",
    "I also spent a lot of time working on the non-numeric features in this data set. I filled in all missing values with the mean values of exisintg data, or dropped them if the feature had a significant number of null values. After this I used one-hot encoder on these features. With this I now had close to a thousand features. I tried applying my models to this pre-processed dataset and they all either did not work, or I received extremely poor results. For this reaosn I decided to stick with the numerical features for my submission. I do think including those non-numeric features could lead to a more accurate model, however they would require a more fine-tuned pre-processing approach."
   ]
  },
  {
   "cell_type": "code",
   "execution_count": null,
   "id": "281e92c2",
   "metadata": {},
   "outputs": [],
   "source": []
  }
 ],
 "metadata": {
  "kernelspec": {
   "display_name": "Python 3",
   "language": "python",
   "name": "python3"
  },
  "language_info": {
   "codemirror_mode": {
    "name": "ipython",
    "version": 3
   },
   "file_extension": ".py",
   "mimetype": "text/x-python",
   "name": "python",
   "nbconvert_exporter": "python",
   "pygments_lexer": "ipython3",
   "version": "3.8.8"
  }
 },
 "nbformat": 4,
 "nbformat_minor": 5
}
